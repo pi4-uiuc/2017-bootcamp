{
 "cells": [
  {
   "cell_type": "markdown",
   "metadata": {},
   "source": [
    "# Pandas\n",
    "\n",
    "[pandas](http://pandas.pydata.org/index.html) is a software library written for the Python programming language for data manipulation and analysis. In particular, it offers data structures and operations for manipulating numerical tables and time series. pandas is free software released under the three-clause BSD license. The name is derived from the term \"Panel data\", an econometrics term for multidimensional structured data sets.\n",
    "\n",
    "Pandas provides basic data structures that allow fast and efficient data manipulation. Pandas is built around numpy, however instead of providing data access through sequential indexing, pandas provides a dictionary-like access. For some basic application numpy/scipy functionality might be sufficient, however pandas provides extensive set to functions for data manipulation. Thus it allows to build complex data analysis pipelines in python without need for external languages."
   ]
  },
  {
   "cell_type": "code",
   "execution_count": null,
   "metadata": {
    "collapsed": false
   },
   "outputs": [],
   "source": [
    "#import libraries\n",
    "from __future__ import division\n",
    "import numpy as np\n",
    "import pandas as pd\n",
    "import matplotlib as mpl\n",
    "import matplotlib.pyplot as plt\n",
    "\n",
    "pd.set_option('display.mpl_style', 'default')\n",
    "#IPython magic command for inline plotting\n",
    "%matplotlib inline\n",
    "#a better plot shape for IPython\n",
    "mpl.rcParams['figure.figsize']=[15,3]"
   ]
  },
  {
   "cell_type": "markdown",
   "metadata": {},
   "source": [
    "## Major Data Structures\n",
    "\n",
    "<img src=\"https://docs.google.com/drawings/d/16Laq9U0qV3tglRiH4aHSq85_wmBaNQdF8wbzh8KFpMk/pub?w=939&h=541\" width=\"500\" align = \"center\" />\n",
    "\n",
    "The most commonly used and well developed pandas data structures are:\n",
    " - Series\n",
    " - DataFrames\n",
    "\n",
    "\n",
    "### Pandas Series\n",
    "\n",
    "Pandas Sries is a representation of an array-like structure in pandas. Series could be constructed from the array like structures, dictionaries of scalars."
   ]
  },
  {
   "cell_type": "code",
   "execution_count": null,
   "metadata": {
    "collapsed": false
   },
   "outputs": [],
   "source": [
    "series_1 = pd.Series([1, 2, 4])\n",
    "series_2 = pd.Series({'a': 1, 'b': 2, 'c':3})\n",
    "series_3 = pd.Series(4)\n",
    "\n",
    "print('Series 1:\\n', series_1)\n",
    "print('Series 2:\\n', series_2)\n",
    "print('Series 3:\\n', series_3)"
   ]
  },
  {
   "cell_type": "markdown",
   "metadata": {},
   "source": [
    "Pandas series can behave both like dictionaries and arrays: series elements can be acessed by numeric index or label index. Label indices are are stored in `index` property of the `pandas.Series` object."
   ]
  },
  {
   "cell_type": "code",
   "execution_count": null,
   "metadata": {
    "collapsed": false
   },
   "outputs": [],
   "source": [
    "print('Label index 1: ', series_1.index)\n",
    "print('Label index 2: ', series_2.index)\n",
    "print('Label index 3: ', series_3.index)"
   ]
  },
  {
   "cell_type": "code",
   "execution_count": null,
   "metadata": {
    "collapsed": false
   },
   "outputs": [],
   "source": [
    "#accessing array elements through label index\n",
    "print(series_2[['a', 'b']])\n",
    "\n",
    "#accessing array elements through numeric index\n",
    "print(series_2[[0, 1]])\n",
    "\n",
    "#accessing array elements array slicing\n",
    "print(series_2[:2])"
   ]
  },
  {
   "cell_type": "markdown",
   "metadata": {},
   "source": [
    "Series indices could be initialized specified in `pandas.Series` function"
   ]
  },
  {
   "cell_type": "code",
   "execution_count": null,
   "metadata": {
    "collapsed": false
   },
   "outputs": [],
   "source": [
    "series_1 = pd.Series([1, 2, 4], index=['a', 'b', 'c'])\n",
    "series_2 = pd.Series({'a': 1, 'b': 2, 'c':3}, index=['a', 'b', 'c', 'd'])\n",
    "\n",
    "print('Series 1:\\n', series_1)\n",
    "print('Series 2:\\n', series_2)"
   ]
  },
  {
   "cell_type": "markdown",
   "metadata": {},
   "source": [
    "Pandas series can also have a string name"
   ]
  },
  {
   "cell_type": "code",
   "execution_count": null,
   "metadata": {
    "collapsed": false
   },
   "outputs": [],
   "source": [
    "series_1 = pd.Series([1, 2, 4], index=['a', 'b', 'c'], name='example')\n",
    "print(series_1)"
   ]
  },
  {
   "cell_type": "markdown",
   "metadata": {},
   "source": [
    "## String Methods\n",
    "\n",
    "Series is equipped with a set of string processing methods that make it easy to operate on each element of the array. Perhaps most importantly, these methods exclude missing/NA values automatically. These are accessed via the Series’s str attribute and generally have names matching the equivalent (scalar) built-in string methods:"
   ]
  },
  {
   "cell_type": "code",
   "execution_count": null,
   "metadata": {
    "collapsed": false
   },
   "outputs": [],
   "source": [
    "s = pd.Series(['A', 'B', 'C', 'Aaba', 'Baca', np.nan, 'CABA', 'dog', 'cat'])"
   ]
  },
  {
   "cell_type": "code",
   "execution_count": null,
   "metadata": {
    "collapsed": false
   },
   "outputs": [],
   "source": [
    "s.str.upper()"
   ]
  },
  {
   "cell_type": "code",
   "execution_count": null,
   "metadata": {
    "collapsed": false
   },
   "outputs": [],
   "source": [
    "s.str.lower()"
   ]
  },
  {
   "cell_type": "code",
   "execution_count": null,
   "metadata": {
    "collapsed": false
   },
   "outputs": [],
   "source": [
    "s.str.len()"
   ]
  },
  {
   "cell_type": "code",
   "execution_count": null,
   "metadata": {
    "collapsed": false
   },
   "outputs": [],
   "source": [
    "s2 = pd.Series(['a_b_c', 'c_d_e', np.nan, 'f_g_h'])\n",
    "print(s2)\n"
   ]
  },
  {
   "cell_type": "code",
   "execution_count": null,
   "metadata": {
    "collapsed": false
   },
   "outputs": [],
   "source": [
    "s2.str.split('_')"
   ]
  },
  {
   "cell_type": "markdown",
   "metadata": {},
   "source": [
    "### Available string methods\n",
    "<table>\n",
    "<tr>\n",
    "<th>Method</th>\n",
    "<th>Description</th>\n",
    "</tr>\n",
    "<tr>\n",
    "<td>cat</td>\n",
    "<td>Concatenate strings</td>\n",
    "</tr>\n",
    "<tr>\n",
    "<td>split</td>\n",
    "<td>Split strings on delimiter</td>\n",
    "</tr>\n",
    "<tr>\n",
    "<td>get</td>\n",
    "<td>Index into each element (retrieve i-th element</td>\n",
    "</tr>\n",
    "<tr>\n",
    "<td>join</td>\n",
    "<td>Join strings in each element of the Series with passed separator</td>\n",
    "</tr>\n",
    "<tr>\n",
    "<td>contains</td>\n",
    "<td>Return boolean array if each string contains pattern/regex</td>\n",
    "</tr>\n",
    "<tr>\n",
    "<td>replace</td>\n",
    "<td>Replace occurrences of pattern/regex with some other string</td>\n",
    "</tr>\n",
    "<tr>\n",
    "<td>repeat</td>\n",
    "<td>Duplicate values (s.str.repeat(3) equivalent to x * 3)</td>\n",
    "</tr>\n",
    "<tr>\n",
    "<td>pad</td>\n",
    "<td>Add whitespace to left, right, or both sides of strings</td>\n",
    "</tr>\n",
    "<tr>\n",
    "<td>center</td>\n",
    "<td>Equivalent to pad(side='both')</td>\n",
    "</tr>\n",
    "<tr>\n",
    "<td>wrap</td>\n",
    "<td>Split long strings into lines with length less than a given width</td>\n",
    "</tr>\n",
    "<tr>\n",
    "<td>slice</td>\n",
    "<td>Slice each string in the Series</td>\n",
    "</tr>\n",
    "<tr>\n",
    "<td>slice_replace</td>\n",
    "<td>Replace slice in each string with passed value</td>\n",
    "</tr>\n",
    "<tr>\n",
    "<td>count</td>\n",
    "<td>Count occurrences of pattern</td>\n",
    "</tr>\n",
    "<tr>\n",
    "<td>startswith</td>\n",
    "<td>Equivalent to str.startswith(pat) for each element</td>\n",
    "</tr>\n",
    "<tr>\n",
    "<td>endswith</td>\n",
    "<td>Equivalent to str.endswith(pat) for each element</td>\n",
    "</tr>\n",
    "<tr>\n",
    "<td>findall </td>\n",
    "<td>Compute list of all occurrences of pattern/regex for each string</td>\n",
    "</tr>\n",
    "<tr>\n",
    "<td>match</td>\n",
    "<td>Call re.match on each element, returning matched groups as list</td>\n",
    "</tr>\n",
    "<tr>\n",
    "<td>extract</td>\n",
    "<td>Call re.match on each element, as match does, but return matched groups as strings for convenience.</td>\n",
    "</tr>\n",
    "<tr>\n",
    "<td>len</td>\n",
    "<td>Compute string lengths</td>\n",
    "</tr>\n",
    "<tr>\n",
    "<td>strip</td>\n",
    "<td>Equivalent to str.strip</td>\n",
    "</tr>\n",
    "<tr>\n",
    "<td>rstrip</td>\n",
    "<td>Equivalent to str.rstrip</td>\n",
    "</tr>\n",
    "<tr>\n",
    "<td>lstrip</td>\n",
    "<td>Equivalent to str.lstrip</td>\n",
    "</tr>\n",
    "<tr>\n",
    "<td>lower</td>\n",
    "<td>Equivalent to str.lower</td>\n",
    "</tr>\n",
    "<tr>\n",
    "<td>upper</td>\n",
    "<td>Equivalent to str.upper</td>\n",
    "</tr>\n",
    "</table>"
   ]
  },
  {
   "cell_type": "markdown",
   "metadata": {},
   "source": [
    "## DataFrames\n",
    "\n",
    "Pandas series are a powertool for dealing with one dimentional data, however a lot of the useful datasets are two or three dimensional. `Pandas.Dataframe` provides a data structure for 2D data. As `pandas.Series`, `Pandas.Dataframes` could be initialized with\n",
    " - Dict of 1D ndarrays, lists, dicts, or Series\n",
    " - 2-D numpy.ndarray\n",
    " - Structured or record ndarray\n",
    " - A Series\n",
    " - Another DataFrame\n"
   ]
  },
  {
   "cell_type": "code",
   "execution_count": null,
   "metadata": {
    "collapsed": true
   },
   "outputs": [],
   "source": []
  },
  {
   "cell_type": "code",
   "execution_count": null,
   "metadata": {
    "collapsed": true
   },
   "outputs": [],
   "source": []
  },
  {
   "cell_type": "code",
   "execution_count": null,
   "metadata": {
    "collapsed": true
   },
   "outputs": [],
   "source": []
  },
  {
   "cell_type": "markdown",
   "metadata": {},
   "source": [
    "## Datasets\n",
    "\n",
    "We will use Chicago food inspections and Chicago construction permits datasets to solve our practice problems. Pandas `read_csv` functions allows to read csv files from the disk or from remote locations. Pandas can read `json`, `hdf5`, `html`, `excel` file and it can query SQL databases. We will use csv files in our examples\n"
   ]
  },
  {
   "cell_type": "code",
   "execution_count": null,
   "metadata": {
    "collapsed": false
   },
   "outputs": [],
   "source": [
    "help(pd.read_csv)"
   ]
  },
  {
   "cell_type": "code",
   "execution_count": null,
   "metadata": {
    "collapsed": false
   },
   "outputs": [],
   "source": [
    "#get food inspection dataset from url\n",
    "df_inspection = pd.read_csv('https://data.cityofchicago.org/api/views/4ijn-s7e5/rows.csv?accessType=DOWNLOAD')\n",
    "df_inspection.to_csv('inspections', index=False)\n",
    "\n",
    "#use requests library to download and save file\n",
    "import requests\n",
    "\n",
    "#open an url request, save and download data\n",
    "url = 'https://data.cityofchicago.org/api/views/ydr8-5enu/rows.csv?accessType=DOWNLOAD'\n",
    "response = requests.get(url)\n",
    "with open('permits.csv', 'w') as out_file:\n",
    "    out_file.write(response.text)\n",
    "    \n",
    "#read data from csv\n",
    "df_permits = pd.read_csv('permits.csv')"
   ]
  },
  {
   "cell_type": "markdown",
   "metadata": {},
   "source": [
    "The large dataframes could no be displayed or browsed efficiently. The top $N$ row of the matrix could be displayed using head function"
   ]
  },
  {
   "cell_type": "code",
   "execution_count": null,
   "metadata": {
    "collapsed": false
   },
   "outputs": [],
   "source": [
    "help(pd.DataFrame.head)"
   ]
  },
  {
   "cell_type": "code",
   "execution_count": null,
   "metadata": {
    "collapsed": false
   },
   "outputs": [],
   "source": [
    "df_inspection.head()"
   ]
  },
  {
   "cell_type": "markdown",
   "metadata": {},
   "source": [
    "In the cells below, check the output of the following functions:\n",
    "    \n",
    "    1. df_inspection.tail()\n",
    "    2. df_inspection.describe()\n",
    "    3. df_inspection.T\n",
    "    4. df_inspection.sort(columns='B')\n",
    "    5. df_inspection.columns, df_inspection.index, df_inspection.values"
   ]
  },
  {
   "cell_type": "code",
   "execution_count": null,
   "metadata": {
    "collapsed": false
   },
   "outputs": [],
   "source": []
  },
  {
   "cell_type": "code",
   "execution_count": null,
   "metadata": {
    "collapsed": true
   },
   "outputs": [],
   "source": []
  },
  {
   "cell_type": "code",
   "execution_count": null,
   "metadata": {
    "collapsed": false
   },
   "outputs": [],
   "source": []
  },
  {
   "cell_type": "code",
   "execution_count": null,
   "metadata": {
    "collapsed": true
   },
   "outputs": [],
   "source": []
  },
  {
   "cell_type": "code",
   "execution_count": null,
   "metadata": {
    "collapsed": true
   },
   "outputs": [],
   "source": []
  },
  {
   "cell_type": "markdown",
   "metadata": {},
   "source": [
    "## Acessing DataFrames\n",
    "\n",
    "Dataframe can be acessed using indices and labels."
   ]
  },
  {
   "cell_type": "code",
   "execution_count": null,
   "metadata": {
    "collapsed": false
   },
   "outputs": [],
   "source": [
    "print(df_inspection.columns)"
   ]
  },
  {
   "cell_type": "markdown",
   "metadata": {
    "collapsed": true
   },
   "source": [
    "### Acessing columns"
   ]
  },
  {
   "cell_type": "code",
   "execution_count": null,
   "metadata": {
    "collapsed": false
   },
   "outputs": [],
   "source": [
    "df_inspection['Inspection ID']"
   ]
  },
  {
   "cell_type": "code",
   "execution_count": null,
   "metadata": {
    "collapsed": false
   },
   "outputs": [],
   "source": [
    "df_inspection[['Inspection ID', 'DBA Name']]"
   ]
  },
  {
   "cell_type": "markdown",
   "metadata": {},
   "source": [
    "### Acessing rows and columns"
   ]
  },
  {
   "cell_type": "code",
   "execution_count": null,
   "metadata": {
    "collapsed": false
   },
   "outputs": [],
   "source": [
    "df_inspection.loc[0]"
   ]
  },
  {
   "cell_type": "code",
   "execution_count": null,
   "metadata": {
    "collapsed": false
   },
   "outputs": [],
   "source": [
    "df_inspection.iloc[0]"
   ]
  },
  {
   "cell_type": "code",
   "execution_count": null,
   "metadata": {
    "collapsed": false
   },
   "outputs": [],
   "source": [
    "df_inspection.ix[0]"
   ]
  },
  {
   "cell_type": "code",
   "execution_count": null,
   "metadata": {
    "collapsed": false
   },
   "outputs": [],
   "source": [
    "df_inspection2 = df_inspection.copy()\n",
    "df_inspection2.index = df_inspection['Inspection ID']"
   ]
  },
  {
   "cell_type": "markdown",
   "metadata": {},
   "source": [
    "Try accesing a single row of the `df_inspection2` DataFrame using `loc`,`iloc`, `ix`"
   ]
  },
  {
   "cell_type": "code",
   "execution_count": null,
   "metadata": {
    "collapsed": false
   },
   "outputs": [],
   "source": [
    "df_inspection2.iloc[0]"
   ]
  },
  {
   "cell_type": "code",
   "execution_count": null,
   "metadata": {
    "collapsed": false
   },
   "outputs": [],
   "source": []
  },
  {
   "cell_type": "markdown",
   "metadata": {},
   "source": [
    "### Mixed access\n",
    "\n",
    "\n",
    "Both `loc`, `iloc` and `ix` allow acessing both rows and columns"
   ]
  },
  {
   "cell_type": "code",
   "execution_count": null,
   "metadata": {
    "collapsed": false
   },
   "outputs": [],
   "source": [
    "df_inspection2.loc[1995449, 'DBA Name']"
   ]
  },
  {
   "cell_type": "code",
   "execution_count": null,
   "metadata": {
    "collapsed": false
   },
   "outputs": [],
   "source": [
    "df_inspection2.iloc[0:5, 0:2]"
   ]
  },
  {
   "cell_type": "code",
   "execution_count": null,
   "metadata": {
    "collapsed": false
   },
   "outputs": [],
   "source": [
    "df_inspection2.ix[[1995449, 1995448], 0:2]"
   ]
  },
  {
   "cell_type": "code",
   "execution_count": null,
   "metadata": {
    "collapsed": false
   },
   "outputs": [],
   "source": [
    "df_inspection2.ix[['1995449', '1995448'], 0:2]"
   ]
  },
  {
   "cell_type": "markdown",
   "metadata": {},
   "source": [
    "Try the same accessing the same rows and columns with `loc`"
   ]
  },
  {
   "cell_type": "code",
   "execution_count": null,
   "metadata": {
    "collapsed": true
   },
   "outputs": [],
   "source": []
  },
  {
   "cell_type": "markdown",
   "metadata": {},
   "source": [
    "Access operators `loc`, `iloc` and `ix` can return both views or copies of the original dataframe depending on the context! If pandas is raising warning, then default behaviour is not known. Thus chained indexing is not recommended"
   ]
  },
  {
   "cell_type": "code",
   "execution_count": null,
   "metadata": {
    "collapsed": false
   },
   "outputs": [],
   "source": [
    "df_test = df_inspection\n",
    "df_test.loc['DBA Name'][0] = 1\n",
    "df_test.head()"
   ]
  },
  {
   "cell_type": "markdown",
   "metadata": {},
   "source": [
    "### Exercise: Basic data cleaning\n",
    "\n",
    "View the columns and the top 5 row of the df_permits dataframe. Remove all of the spaces in the column names of the permits dataframe. You can either use `strip` of `replace` functions."
   ]
  },
  {
   "cell_type": "code",
   "execution_count": null,
   "metadata": {
    "collapsed": false
   },
   "outputs": [],
   "source": []
  },
  {
   "cell_type": "markdown",
   "metadata": {},
   "source": [
    "`TOTAL_FEE`, `ESTIMATED_COST`, `AMOUNT_WAIVED`, `AMOUNT_PAID` were read as the strings. We want to strip dollar sign and  convert them to integer"
   ]
  },
  {
   "cell_type": "code",
   "execution_count": null,
   "metadata": {
    "collapsed": false
   },
   "outputs": [],
   "source": []
  },
  {
   "cell_type": "markdown",
   "metadata": {},
   "source": [
    "Another way to solve the problem:"
   ]
  },
  {
   "cell_type": "code",
   "execution_count": null,
   "metadata": {
    "collapsed": false
   },
   "outputs": [],
   "source": [
    "columns = ['TOTAL_FEE', 'ESTIMATED_COST', 'AMOUNT_WAIVED', 'AMOUNT_PAID']\n",
    "\n",
    "def clean_cost(x):\n",
    "    return float(str(x).strip('$'))\n",
    "\n",
    "df_permits = df_permits_clean.copy()\n",
    "print(df_permits.columns)\n",
    "#apply clean_cost to the each column\n",
    "for col in columns:\n",
    "    df_permits[col] = df_permits[col].apply(clean_cost)"
   ]
  },
  {
   "cell_type": "code",
   "execution_count": null,
   "metadata": {
    "collapsed": false
   },
   "outputs": [],
   "source": [
    "df_permits = df_permits_clean.copy()\n",
    "\n",
    "#or apply clean_cost to the view of the dataframe\n",
    "df_permits[columns] = df_permits[columns].applymap(clean_cost)"
   ]
  },
  {
   "cell_type": "markdown",
   "metadata": {},
   "source": [
    "Apply `describe` function to the `df_permits` dataframe"
   ]
  },
  {
   "cell_type": "code",
   "execution_count": null,
   "metadata": {
    "collapsed": false
   },
   "outputs": [],
   "source": []
  },
  {
   "cell_type": "markdown",
   "metadata": {},
   "source": [
    "## DataFrames: Basic Data Manipulation\n",
    "\n",
    "pandas series allow boolean comparison operators"
   ]
  },
  {
   "cell_type": "code",
   "execution_count": null,
   "metadata": {
    "collapsed": false
   },
   "outputs": [],
   "source": [
    "df_permits['TOTAL_FEE'] > 1000"
   ]
  },
  {
   "cell_type": "markdown",
   "metadata": {},
   "source": [
    "Note that the result of applying boolean operator is pandas.Series, so you can apply all of the series functions to the results of boolean operator"
   ]
  },
  {
   "cell_type": "code",
   "execution_count": null,
   "metadata": {
    "collapsed": false
   },
   "outputs": [],
   "source": [
    "print( (df_permits['TOTAL_FEE'] > 1000).sum())"
   ]
  },
  {
   "cell_type": "markdown",
   "metadata": {},
   "source": [
    "You can access the dataframe using boolean values. Note the behavior of the `pandas.Index` here"
   ]
  },
  {
   "cell_type": "code",
   "execution_count": null,
   "metadata": {
    "collapsed": false
   },
   "outputs": [],
   "source": [
    "df_permits.loc[df_permits['TOTAL_FEE'] > 1000]"
   ]
  },
  {
   "cell_type": "markdown",
   "metadata": {},
   "source": [
    "### Exercise\n",
    "The results of the describe methods show that there is a single\n",
    "df_permits.describe()"
   ]
  },
  {
   "cell_type": "code",
   "execution_count": null,
   "metadata": {
    "collapsed": false
   },
   "outputs": [],
   "source": [
    "df_permits.describe()"
   ]
  },
  {
   "cell_type": "markdown",
   "metadata": {},
   "source": [
    "Select permits for which `AMOUNT_PAID` and `ESTIMATED_COST` is less that 1 million."
   ]
  },
  {
   "cell_type": "code",
   "execution_count": null,
   "metadata": {
    "collapsed": false
   },
   "outputs": [],
   "source": []
  },
  {
   "cell_type": "markdown",
   "metadata": {},
   "source": [
    "## Dataframes: plotting data\n",
    "\n",
    "Dataframe have `plot` function that can be applied to the columns of the dataframe."
   ]
  },
  {
   "cell_type": "code",
   "execution_count": null,
   "metadata": {
    "collapsed": false
   },
   "outputs": [],
   "source": [
    "help(pd.DataFrame.plot)"
   ]
  },
  {
   "cell_type": "code",
   "execution_count": null,
   "metadata": {
    "collapsed": false
   },
   "outputs": [],
   "source": [
    "fig, ax = plt.subplots(figsize=(10, 10))\n",
    "df_permits_new.plot(kind='scatter', ax=ax, x='LONGITUDE', y='LATITUDE', s=0.1, \n",
    "                c=df_permits_new['ESTIMATED_COST'].apply(np.log), colorbar=True, colormap='viridis')"
   ]
  },
  {
   "cell_type": "markdown",
   "metadata": {},
   "source": [
    "## DataFrames: Advanced Data Manipulation\n",
    "\n",
    "Pandas object can be grouped using columns or row criteria. The addresses of the construction sites do not have zipcode, so we will be looking at the contractor zipcodes"
   ]
  },
  {
   "cell_type": "code",
   "execution_count": null,
   "metadata": {
    "collapsed": false
   },
   "outputs": [],
   "source": [
    "contractor_group = df_permits_new.groupby('CONTRACTOR_1_ZIPCODE', sort=True)\n",
    "\n",
    "#count which zipcode had the most 1st subcontractors \n",
    "contractor_group.size().sort_values(ascending=False)"
   ]
  },
  {
   "cell_type": "code",
   "execution_count": null,
   "metadata": {
    "collapsed": false
   },
   "outputs": [],
   "source": [
    "contractor_group['AMOUNT_PAID'].mean().sort_values(ascending=False).head(20)"
   ]
  },
  {
   "cell_type": "markdown",
   "metadata": {},
   "source": [
    "Apply multiple action on groups at once"
   ]
  },
  {
   "cell_type": "code",
   "execution_count": null,
   "metadata": {
    "collapsed": false
   },
   "outputs": [],
   "source": [
    "ammount_paid = contractor_group['AMOUNT_PAID'].agg([np.sum, np.mean, np.std])\n",
    "ammount_paid"
   ]
  },
  {
   "cell_type": "code",
   "execution_count": null,
   "metadata": {
    "collapsed": false
   },
   "outputs": [],
   "source": [
    "ammount_paid.dropna()"
   ]
  },
  {
   "cell_type": "code",
   "execution_count": null,
   "metadata": {
    "collapsed": false
   },
   "outputs": [],
   "source": [
    "ammount_paid.dropna().sort_values('std', ascending=False)"
   ]
  },
  {
   "cell_type": "markdown",
   "metadata": {},
   "source": [
    "### Exercise\n",
    "\n",
    "Use `df_inspection` dataframe and find the addresses that had the most inspections. Count how many health inspections were at each address. Use `groupby` function to solve this problem."
   ]
  },
  {
   "cell_type": "code",
   "execution_count": null,
   "metadata": {
    "collapsed": false
   },
   "outputs": [],
   "source": []
  },
  {
   "cell_type": "markdown",
   "metadata": {},
   "source": [
    "Add `Latitude` and `Longitude` columns for plotting purposes."
   ]
  },
  {
   "cell_type": "code",
   "execution_count": null,
   "metadata": {
    "collapsed": false
   },
   "outputs": [],
   "source": []
  },
  {
   "cell_type": "markdown",
   "metadata": {},
   "source": [
    "Make a scatter plot of the inspection locations and use logarithm of violation counts to chose the color of the point"
   ]
  },
  {
   "cell_type": "code",
   "execution_count": null,
   "metadata": {
    "collapsed": false
   },
   "outputs": [],
   "source": []
  },
  {
   "cell_type": "markdown",
   "metadata": {},
   "source": [
    "## Working with dates\n",
    "\n",
    "Group permits by issue date, count how many permit were issued on. Ue `sort_index` function to sort the date"
   ]
  },
  {
   "cell_type": "code",
   "execution_count": null,
   "metadata": {
    "collapsed": false
   },
   "outputs": [],
   "source": [
    "date_group = df_permits.groupby('ISSUE_DATE')\n",
    "counts = date_group['PERMIT_TYPE'].count()\n",
    "print(counts)"
   ]
  },
  {
   "cell_type": "code",
   "execution_count": null,
   "metadata": {
    "collapsed": false
   },
   "outputs": [],
   "source": [
    "import datetime\n",
    "\n",
    "counts.index = pd.to_datetime(counts.index)\n",
    "counts.sort_index()\n",
    "counts_2016 = counts[(counts.index.date >= datetime.date(2016, 1, 1))\n",
    "                     & (counts.index.date < datetime.date(2017, 1, 1))]\n",
    "counts_2016.plot()"
   ]
  },
  {
   "cell_type": "code",
   "execution_count": null,
   "metadata": {
    "collapsed": false
   },
   "outputs": [],
   "source": [
    "counts.resample('M').plot()\n",
    "counts.resample('W').plot()"
   ]
  },
  {
   "cell_type": "code",
   "execution_count": null,
   "metadata": {
    "collapsed": false
   },
   "outputs": [],
   "source": [
    "counts_2016_W = counts_2016.resample('M')\n",
    "counts_2016_W.plot()"
   ]
  },
  {
   "cell_type": "markdown",
   "metadata": {},
   "source": [
    "### Exercise \n",
    "\n",
    "Plots the number of the inspections in 2016 from the `df_inspection` dataframe and resample the data for every week and month."
   ]
  },
  {
   "cell_type": "code",
   "execution_count": null,
   "metadata": {
    "collapsed": true
   },
   "outputs": [],
   "source": []
  },
  {
   "cell_type": "markdown",
   "metadata": {},
   "source": [
    "## Merging DataFrames"
   ]
  },
  {
   "cell_type": "code",
   "execution_count": null,
   "metadata": {
    "collapsed": false
   },
   "outputs": [],
   "source": [
    "left = pd.DataFrame({'key': ['K0', 'K1', 'K2', 'K3'],\n",
    "                     'A': ['A0', 'A1', 'A2', 'A3'],\n",
    "                      'B': ['B0', 'B1', 'B2', 'B3']})\n",
    "\n",
    "right = pd.DataFrame({'key': ['K0', 'K1', 'K2', 'K3'],\n",
    "                               'C': ['C0', 'C1', 'C2', 'C3'],\n",
    "                                'D': ['D0', 'D1', 'D2', 'D3']})\n",
    "\n",
    "result = pd.merge(left, right, on='key')\n",
    "\n",
    "print(result)\n"
   ]
  }
 ],
 "metadata": {
  "kernelspec": {
   "display_name": "Python 3",
   "language": "python",
   "name": "python3"
  },
  "language_info": {
   "codemirror_mode": {
    "name": "ipython",
    "version": 3
   },
   "file_extension": ".py",
   "mimetype": "text/x-python",
   "name": "python",
   "nbconvert_exporter": "python",
   "pygments_lexer": "ipython3",
   "version": "3.6.0"
  }
 },
 "nbformat": 4,
 "nbformat_minor": 0
}
