{
 "cells": [
  {
   "cell_type": "markdown",
   "metadata": {},
   "source": [
    "#   Lesson 3:  $k$-nearest neighbors\n",
    "\n",
    "\n",
    "---\n",
    "\n",
    "### Contents\n",
    "\n",
    "-   [Introduction](#1)\n",
    "-   [Training data generation](#2)\n",
    "-   [Binary data visualization](#3)\n",
    "-   [Test data generation](#4)\n",
    "-   [Apply KNN approach for binary data classification](#5)\n",
    "-   [Contributors](#6)\n",
    "\n",
    "\n",
    "---"
   ]
  },
  {
   "cell_type": "code",
   "execution_count": 1,
   "metadata": {
    "collapsed": true
   },
   "outputs": [],
   "source": [
    "import numpy as np\n",
    "import numpy.random as npr\n",
    "import matplotlib.pyplot as plt\n",
    "%matplotlib inline"
   ]
  },
  {
   "cell_type": "markdown",
   "metadata": {},
   "source": [
    "##  [Introduction](#1)\n",
    "\n",
    "[$k$-nearest neighbors](https://infogalactic.com/info/K-nearest_neighbors_algorithm) is an algorithm which _trains_ on a data set and then makes predictions based on its _supervised learning_.  Specifically, the $k$ closest training examples are used to predict the classification of new examples.\n",
    "\n",
    "KNN possesses excellent scaling properties, which is one reason it is popular.  The accuracy tends to increase as the data set size increases.\n",
    "\n",
    "\n",
    "---\n",
    "\n",
    "##  [Training data generation](#2)\n",
    "\n",
    "Instead of loading a data set, in this case we will generate a random data set suitable for training."
   ]
  },
  {
   "cell_type": "code",
   "execution_count": 2,
   "metadata": {
    "collapsed": false
   },
   "outputs": [],
   "source": [
    "csize = 10  # create 10 center points for each group\n",
    "s = 1       # st dev for points (distributed from center)\n",
    "\n",
    "m0 = npr.randn( csize,2 )\n",
    "m0[ :,0 ] += 1\n",
    "m1 = npr.randn( csize,2 )\n",
    "m1[ :,1 ] += 1\n",
    "\n",
    "# Generature training points\n",
    "n = 100     # number of training points for each group\n",
    "id0 = npr.choice( range( 0,csize ),n,replace=True )\n",
    "id1 = npr.choice( range( 0,csize ),n,replace=True )\n",
    "s = np.sqrt( 1/5 )  # st dev for generating x\n",
    "\n",
    "traindata_blue = np.zeros( ( n,2 ) )\n",
    "traindata_red  = np.zeros( ( n,2 ) )\n",
    "for i in range( n ):\n",
    "    traindata_blue[ i,: ] = npr.randn( 1,2 ) * s + m0[ id0[ i ],: ]\n",
    "    traindata_red[ i,: ]  = npr.randn( 1,2 ) * s + m1[ id1[ i ],: ]\n",
    "\n",
    "traindata = np.concatenate( ( traindata_blue,traindata_red ) )\n",
    "y = np.concatenate( ( np.zeros( ( n,1 ) ),np.ones( ( n,1 ) ) ) )\n",
    "y_train = y[ : ]"
   ]
  },
  {
   "cell_type": "markdown",
   "metadata": {},
   "source": [
    "---\n",
    "\n",
    "##  [Binary data visualization](#3)\n",
    "\n",
    "Now we need to pause and see what these training data _look_ like."
   ]
  },
  {
   "cell_type": "code",
   "execution_count": 3,
   "metadata": {
    "collapsed": false
   },
   "outputs": [
    {
     "data": {
      "image/png": "[encoded data removed]",
      "text/plain": [
       "<matplotlib.figure.Figure at 0x7f1f558b25f8>"
      ]
     },
     "metadata": {},
     "output_type": "display_data"
    },
    {
     "data": {
      "image/png": "[encoded data removed]",
      "text/plain": [
       "<matplotlib.figure.Figure at 0x7f1f524d3ac8>"
      ]
     },
     "metadata": {},
     "output_type": "display_data"
    }
   ],
   "source": [
    "plt.plot( m0[:,0],m0[:,1],'b+' )\n",
    "plt.plot( m1[:,0],m1[:,1],'r+' )\n",
    "plt.xlabel( r'Label $x_i^1$' )\n",
    "plt.ylabel( r'Label $x_i^2$' )\n",
    "plt.title( 'Centers for Data Generation' );\n",
    "plt.show()\n",
    "\n",
    "plt.plot( m0[:,0],m0[:,1],'b+' )\n",
    "plt.plot( m1[:,0],m1[:,1],'r+' )\n",
    "plt.plot( traindata_blue[:,0],traindata_blue[:,1],'bo' )\n",
    "plt.plot( traindata_red[:,0],traindata_red[:,1],'ro' )\n",
    "plt.show()"
   ]
  },
  {
   "cell_type": "markdown",
   "metadata": {},
   "source": [
    "---\n",
    "\n",
    "##  [Test data generation](#4)\n"
   ]
  },
  {
   "cell_type": "code",
   "execution_count": 4,
   "metadata": {
    "collapsed": false
   },
   "outputs": [],
   "source": [
    "N = 5000\n",
    "id0 = npr.choice( range( 0,csize ),N )\n",
    "id1 = npr.choice( range( 0,csize ),N )\n",
    "\n",
    "testdata_blue = np.zeros( ( N,2 ) )\n",
    "testdata_red  = np.zeros( ( N,2 ) )\n",
    "for i in range( N ):\n",
    "    testdata_blue[ i,: ] = npr.randn( 1,2 ) * s + m0[ id0[ i ],: ]\n",
    "    testdata_red[ i,: ]  = npr.randn( 1,2 ) * s + m1[ id1[ i ],: ]\n",
    "\n",
    "testdata = np.concatenate( ( testdata_blue,testdata_red ) )\n",
    "y = np.concatenate( ( np.zeros( ( N,1 ) ),np.ones( ( N,1 ) ) ) )\n",
    "y_test = y[ : ]"
   ]
  },
  {
   "cell_type": "markdown",
   "metadata": {},
   "source": [
    "---\n",
    "\n",
    "##  [Apply KNN approach for binary data classification](#5)\n",
    "\n",
    "We'll need a new library, the major machine learning library in Python, `scikit-learn`."
   ]
  },
  {
   "cell_type": "code",
   "execution_count": 5,
   "metadata": {
    "collapsed": true
   },
   "outputs": [],
   "source": [
    "from sklearn import neighbors"
   ]
  },
  {
   "cell_type": "markdown",
   "metadata": {},
   "source": [
    "Next, we'll vary the number $k$ of nearest neighbors in order to compare results.  We can use this to identify the model which best approximates our data."
   ]
  },
  {
   "cell_type": "code",
   "execution_count": 6,
   "metadata": {
    "collapsed": true
   },
   "outputs": [],
   "source": [
    "myk = [ 1,3,5,7,11,21,31,45,69,101,151 ]\n",
    "myk = sorted( myk,reverse=True )\n",
    "m = len( myk )"
   ]
  },
  {
   "cell_type": "code",
   "execution_count": 7,
   "metadata": {
    "collapsed": false
   },
   "outputs": [],
   "source": [
    "cv_err = np.zeros( ( m,1 ) )\n",
    "id = npr.choice( range( 0,2*n ),2*n,replace=False )\n",
    "fold = range( 0,201,40 )"
   ]
  },
  {
   "cell_type": "code",
   "execution_count": 8,
   "metadata": {
    "collapsed": false
   },
   "outputs": [
    {
     "name": "stderr",
     "output_type": "stream",
     "text": [
      "/home/davis68/Code/anaconda3/lib/python3.6/site-packages/ipykernel/__main__.py:9: DataConversionWarning: A column-vector y was passed when a 1d array was expected. Please change the shape of y to (n_samples, ), for example using ravel().\n"
     ]
    }
   ],
   "source": [
    "for i in range( 5 ):\n",
    "    for j in range( m ):\n",
    "        # Set up training and target data sets.\n",
    "        ith = id[ fold[ i ]:fold[ i+1 ]-1 ] # rows in i-th fold\n",
    "        op_ith = np.setdiff1d( id,ith )     # rows in id but not i-th fold\n",
    "\n",
    "        # Classify them to train the model.\n",
    "        knn = neighbors.KNeighborsClassifier( n_neighbors=myk[ j ] )\n",
    "        knn.fit( traindata[ op_ith,: ],y_train[ op_ith,: ] )\n",
    "        tmp = knn.predict( traindata[ ith,: ] )\n",
    "\n",
    "        # Calculate error for each k.\n",
    "        cv_err[ j ] += ( tmp != y_train[ ith ].T ).sum( axis=1 )[ 0 ]"
   ]
  },
  {
   "cell_type": "code",
   "execution_count": 9,
   "metadata": {
    "collapsed": false
   },
   "outputs": [],
   "source": [
    "# Select the most successful number of nearest neighbors.\n",
    "min_value = min( cv_err )\n",
    "min_index = cv_err.argmin()\n",
    "k_star = myk[ min_index ]"
   ]
  },
  {
   "cell_type": "code",
   "execution_count": 10,
   "metadata": {
    "collapsed": false
   },
   "outputs": [
    {
     "name": "stdout",
     "output_type": "stream",
     "text": [
      "k=151 has error rate of 74.\n",
      "k=101 has error rate of 63.\n",
      "k=69 has error rate of 74.\n",
      "k=45 has error rate of 71.\n",
      "k=31 has error rate of 76.\n",
      "k=21 has error rate of 67.\n",
      "k=11 has error rate of 64.\n",
      "k=7 has error rate of 61.\n",
      "k=5 has error rate of 65.\n",
      "k=3 has error rate of 61.\n",
      "k=1 has error rate of 64.\n"
     ]
    }
   ],
   "source": [
    "for i,j in enumerate( cv_err ):\n",
    "    print( 'k=%i has error rate of %i.'%( myk[ i ],j ) )"
   ]
  },
  {
   "cell_type": "markdown",
   "metadata": {},
   "source": [
    "Then go ahead and build the predictive model.  This requires explicitly training the model using the parameters just determined."
   ]
  },
  {
   "cell_type": "code",
   "execution_count": 11,
   "metadata": {
    "collapsed": false
   },
   "outputs": [
    {
     "name": "stderr",
     "output_type": "stream",
     "text": [
      "/home/davis68/Code/anaconda3/lib/python3.6/site-packages/ipykernel/__main__.py:3: DataConversionWarning: A column-vector y was passed when a 1d array was expected. Please change the shape of y to (n_samples, ), for example using ravel().\n",
      "  app.launch_new_instance()\n"
     ]
    }
   ],
   "source": [
    "# Build a predictive model.\n",
    "knn_pred = neighbors.KNeighborsClassifier( n_neighbors=myk[ min_index ] )\n",
    "knn_pred.fit( traindata,y_train )\n",
    "y_test_pred = knn_pred.predict( testdata )\n",
    "test_err = sum( y_test.T != y_test_pred ).sum( axis=0 ) / ( 2*n )"
   ]
  },
  {
   "cell_type": "markdown",
   "metadata": {},
   "source": [
    "Plot the fitted results, as well as a grid of the underlying space so we can visualize the KNN behavior."
   ]
  },
  {
   "cell_type": "code",
   "execution_count": 12,
   "metadata": {
    "collapsed": false
   },
   "outputs": [
    {
     "name": "stderr",
     "output_type": "stream",
     "text": [
      "/home/davis68/Code/anaconda3/lib/python3.6/site-packages/ipykernel/__main__.py:15: DataConversionWarning: A column-vector y was passed when a 1d array was expected. Please change the shape of y to (n_samples, ), for example using ravel().\n"
     ]
    },
    {
     "data": {
      "image/png": "[encoded data removed]",
      "text/plain": [
       "<matplotlib.figure.Figure at 0x7f1f494b7dd8>"
      ]
     },
     "metadata": {},
     "output_type": "display_data"
    }
   ],
   "source": [
    "# Plot the predictive model results.\n",
    "fig,ax = plt.subplots()\n",
    "for i in range( len( y_train ) ):\n",
    "    if y_train[ i ] == 0:\n",
    "        ax.plot( traindata[ i,0 ],traindata[ i,1 ],'bo' )\n",
    "    else:\n",
    "        ax.plot( traindata[ i,0 ],traindata[ i,1 ],'ro' )\n",
    "\n",
    "X,Y = np.meshgrid( np.linspace( min( traindata[ :,0 ] ),max( traindata[ :,0 ] ) ),np.linspace( min( traindata[ :,1 ] ),max( traindata[ :,1 ] ) ) )\n",
    "X = X.ravel()\n",
    "X.shape = 2500,1\n",
    "Y = Y.ravel()\n",
    "Y.shape = 2500,1\n",
    "knn_final = neighbors.KNeighborsClassifier( n_neighbors=k_star )\n",
    "knn_final.fit( traindata,y_train )\n",
    "C = knn_final.predict( np.concatenate( ( X,Y ),axis=1 ) )\n",
    "\n",
    "for i in range( len( C ) ):\n",
    "    if C[ i ] == 0:\n",
    "        ax.plot( X[ i ],Y[ i ],'b+' )\n",
    "    else:\n",
    "        ax.plot( X[ i ],Y[ i ],'r+' )\n",
    "plt.xlabel( r'Label $x_i^1$' )\n",
    "plt.ylabel( r'Label $x_i^2$' )\n",
    "plt.title( 'KNN Classification' )\n",
    "plt.show()"
   ]
  },
  {
   "cell_type": "markdown",
   "metadata": {},
   "source": [
    "-   What are the potential pitfalls of a method like this?  Where does it seem to be strong?\n",
    "\n",
    "\n",
    "---\n",
    "\n",
    "##  [Contributors](#6)\n",
    "\n",
    "These lessons were developed by Erhu Du, Jane Lee, and Neal Davis for Computational Science and Engineering at the University of Illinois.  Development was supported by a grant from MathWorks, Inc."
   ]
  }
 ],
 "metadata": {
  "kernelspec": {
   "display_name": "Python 3",
   "language": "python",
   "name": "python3"
  },
  "language_info": {
   "codemirror_mode": {
    "name": "ipython",
    "version": 3
   },
   "file_extension": ".py",
   "mimetype": "text/x-python",
   "name": "python",
   "nbconvert_exporter": "python",
   "pygments_lexer": "ipython3",
   "version": "3.6.0"
  }
 },
 "nbformat": 4,
 "nbformat_minor": 2
}
